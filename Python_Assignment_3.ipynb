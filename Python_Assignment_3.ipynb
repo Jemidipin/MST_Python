{
 "cells": [
  {
   "cell_type": "markdown",
   "id": "2597d4f1-3cda-46b7-94fc-90004c09268c",
   "metadata": {},
   "source": [
    "### 1)  Write a function that returns the middle value among three integers.Write code to test this function with different inputs"
   ]
  },
  {
   "cell_type": "code",
   "execution_count": 5,
   "id": "1000d574-ae90-4332-aa3c-8a1fd16c8f82",
   "metadata": {},
   "outputs": [],
   "source": [
    "def middle_value(a, b, c): \n",
    "    sorted_values = sorted([a, b, c])\n",
    "    return sorted_values[1]"
   ]
  },
  {
   "cell_type": "code",
   "execution_count": 7,
   "id": "f4d7f0b8-6c98-47fb-a708-d3330a5e62a9",
   "metadata": {},
   "outputs": [
    {
     "data": {
      "text/plain": [
       "6"
      ]
     },
     "execution_count": 7,
     "metadata": {},
     "output_type": "execute_result"
    }
   ],
   "source": [
    "middle_value(2,6,9)"
   ]
  },
  {
   "cell_type": "code",
   "execution_count": 9,
   "id": "a006ff3f-c3ea-4855-8ebf-961cdcf14004",
   "metadata": {},
   "outputs": [
    {
     "data": {
      "text/plain": [
       "5"
      ]
     },
     "execution_count": 9,
     "metadata": {},
     "output_type": "execute_result"
    }
   ],
   "source": [
    "middle_value(5,2,9)"
   ]
  },
  {
   "cell_type": "code",
   "execution_count": 11,
   "id": "29b18a63-c5ab-43e8-9a0e-03a8cf0b1b7e",
   "metadata": {},
   "outputs": [
    {
     "data": {
      "text/plain": [
       "7"
      ]
     },
     "execution_count": 11,
     "metadata": {},
     "output_type": "execute_result"
    }
   ],
   "source": [
    "middle_value(10,2,7)"
   ]
  },
  {
   "cell_type": "markdown",
   "id": "290ae5be-b7b1-4b71-a267-3311b36a8e3c",
   "metadata": {},
   "source": [
    "### 2)Build a calculator in Python using functions"
   ]
  },
  {
   "cell_type": "code",
   "execution_count": 23,
   "id": "661d364b-d1f0-405d-9910-bbb79d52d174",
   "metadata": {},
   "outputs": [
    {
     "name": "stdout",
     "output_type": "stream",
     "text": [
      "Select operation:\n",
      "1. Add\n",
      "2. Subtract\n",
      "3. Multiply\n",
      "4. Divide\n"
     ]
    },
    {
     "name": "stdin",
     "output_type": "stream",
     "text": [
      "Enter choice (1/2/3/4):  1\n",
      "Enter first number:  50\n",
      "Enter second number:  20\n"
     ]
    },
    {
     "name": "stdout",
     "output_type": "stream",
     "text": [
      "The result is: 70.0\n"
     ]
    }
   ],
   "source": [
    "def add(a, b):\n",
    "    return a + b\n",
    "def subtract(a, b):\n",
    "    return a - b\n",
    "def multiply(a, b):\n",
    "    return a * b\n",
    "def divide(a, b):\n",
    "    if b == 0:\n",
    "        return \"Error! Division by zero.\"\n",
    "    return a / b\n",
    "def calculator():\n",
    "    print(\"Select operation:\")\n",
    "    print(\"1. Add\")\n",
    "    print(\"2. Subtract\")\n",
    "    print(\"3. Multiply\")\n",
    "    print(\"4. Divide\")\n",
    "\n",
    "    choice = input(\"Enter choice (1/2/3/4): \")\n",
    "\n",
    "    if choice in ['1', '2', '3', '4']:\n",
    "        num1 = float(input(\"Enter first number: \"))\n",
    "        num2 = float(input(\"Enter second number: \"))\n",
    "\n",
    "        if choice == '1':\n",
    "            print(f\"The result is: {add(num1, num2)}\")\n",
    "        elif choice == '2':\n",
    "            print(f\"The result is: {subtract(num1, num2)}\")\n",
    "        elif choice == '3':\n",
    "            print(f\"The result is: {multiply(num1, num2)}\")\n",
    "        elif choice == '4':\n",
    "            print(f\"The result is: {divide(num1, num2)}\")\n",
    "    else:\n",
    "        print(\"Invalid input\")\n",
    "\n",
    "calculator()\n"
   ]
  },
  {
   "cell_type": "markdown",
   "id": "1a87498e-7ebe-4cdc-bd8e-ec2488a10836",
   "metadata": {},
   "source": [
    "### 3)Write a function that takes the lengths of the two shorter sides of a right triangle as its parameters. Return the hypotenuse of the triangle, computed using Pythagorean theorem, as the function’s result."
   ]
  },
  {
   "cell_type": "code",
   "execution_count": 21,
   "id": "e8c70c3c-de5d-4c64-82e1-22c07dee0782",
   "metadata": {},
   "outputs": [
    {
     "name": "stdin",
     "output_type": "stream",
     "text": [
      "Enter the length of the first side:  5\n",
      "Enter the length of the second side:  7\n"
     ]
    },
    {
     "name": "stdout",
     "output_type": "stream",
     "text": [
      "The hypotenuse of the triangle is: 8.602325267042627\n"
     ]
    }
   ],
   "source": [
    "import math\n",
    "\n",
    "def calculate_hypotenuse(a, b):\n",
    "    # Calculate the hypotenuse using Pythagorean theorem\n",
    "    hypotenuse = math.sqrt(a**2 + b**2)\n",
    "    return hypotenuse\n",
    "side1 = float(input(\"Enter the length of the first side: \"))\n",
    "side2 = float(input(\"Enter the length of the second side: \"))\n",
    "\n",
    "hypotenuse = calculate_hypotenuse(side1, side2)\n",
    "print(f\"The hypotenuse of the triangle is: {hypotenuse}\")\n"
   ]
  },
  {
   "cell_type": "markdown",
   "id": "1994642b-d318-4ffa-bb65-ee0072e4b40e",
   "metadata": {},
   "source": [
    "### 4) The Rectangle problem\n",
    "#### (a) Write a Rectangle class in Python language, allowing you to build a rectangle with length and width attributes.\n",
    "#### (b) Create a Perimeter() method to calculate the perimeter of the rectangle and a Area() method to calculate the area of the rectangle.\n",
    "#### (c) Create a method display() that display the length, width, perimeter and area of an object created using an instantiation on rectangle class."
   ]
  },
  {
   "cell_type": "code",
   "execution_count": 28,
   "id": "0d458e7f-dd70-49a5-b475-77603dae4874",
   "metadata": {},
   "outputs": [
    {
     "name": "stdout",
     "output_type": "stream",
     "text": [
      "Length: 8\n",
      "Width: 5\n",
      "Perimeter: 26\n",
      "Area: 40\n"
     ]
    }
   ],
   "source": [
    "class Rectangle:\n",
    "    def __init__(self, length, width):\n",
    "        self.length = length\n",
    "        self.width = width\n",
    "\n",
    "    def perimeter(self):\n",
    "        return 2 * (self.length + self.width)\n",
    "\n",
    "    def area(self):\n",
    "        return self.length * self.width\n",
    "\n",
    "    def display(self):\n",
    "        print(f\"Length: {self.length}\")\n",
    "        print(f\"Width: {self.width}\")\n",
    "        print(f\"Perimeter: {self.perimeter()}\")\n",
    "        print(f\"Area: {self.area()}\")\n",
    "rect = Rectangle(8,5)\n",
    "rect.display()\n"
   ]
  },
  {
   "cell_type": "markdown",
   "id": "29eef5d1-1c8c-4a46-9d55-0964ff4c5b0a",
   "metadata": {},
   "source": [
    "### 5) The Bank Account problem\n",
    "#### (a) Create a Python class called BankAccount which represents a bank account, having as attributes: accountNumber (numeric type), name (name of the account owner as string type), balance.\n",
    "#### (b) Create a constructor with parameters: accountNumber, name, balance.\n",
    "#### (c) Create a Deposit() method which manages the deposit actions.\n",
    "#### (d) Create a Withdrawal() method which manages withdrawals actions.\n",
    "#### (e) Create an bankFees() method to apply the bank fees with a percentage of 5% of the balance account.\n",
    "#### (f) Create a display() method to display account details."
   ]
  },
  {
   "cell_type": "code",
   "execution_count": 31,
   "id": "e5028e3a-dce7-4a17-8d6d-d1f9f5281412",
   "metadata": {},
   "outputs": [
    {
     "name": "stdout",
     "output_type": "stream",
     "text": [
      "Account Number: 123456\n",
      "Account Name: John Doe\n",
      "Balance: 1000\n",
      "Deposited 500. New balance is 1500.\n",
      "Withdrew 200. New balance is 1300.\n",
      "Applied bank fee of 65.0. New balance is 1235.0.\n",
      "Account Number: 123456\n",
      "Account Name: John Doe\n",
      "Balance: 1235.0\n"
     ]
    }
   ],
   "source": [
    "class BankAccount:\n",
    "    def __init__(self, accountNumber, name, balance):\n",
    "        self.accountNumber = accountNumber\n",
    "        self.name = name\n",
    "        self.balance = balance\n",
    "\n",
    "    def deposit(self, amount):\n",
    "        self.balance += amount\n",
    "        print(f\"Deposited {amount}. New balance is {self.balance}.\")\n",
    "\n",
    "    def withdrawal(self, amount):\n",
    "        if amount > self.balance:\n",
    "            print(\"Insufficient funds!\")\n",
    "        else:\n",
    "            self.balance -= amount\n",
    "            print(f\"Withdrew {amount}. New balance is {self.balance}.\")\n",
    "\n",
    "    def bankFees(self):\n",
    "        fee = self.balance * 0.05\n",
    "        self.balance -= fee\n",
    "        print(f\"Applied bank fee of {fee}. New balance is {self.balance}.\")\n",
    "\n",
    "    def display(self):\n",
    "        print(f\"Account Number: {self.accountNumber}\")\n",
    "        print(f\"Account Name: {self.name}\")\n",
    "        print(f\"Balance: {self.balance}\")\n",
    "account = BankAccount(74629763, \"Jemima I V\",20000)\n",
    "\n",
    "account.display()\n",
    "account.deposit(1000)\n",
    "account.withdrawal(200)\n",
    "account.bankFees()\n",
    "account.display()\n"
   ]
  },
  {
   "cell_type": "code",
   "execution_count": null,
   "id": "f5f0150d-56d4-4b85-b27a-0de7efde2923",
   "metadata": {},
   "outputs": [],
   "source": []
  }
 ],
 "metadata": {
  "kernelspec": {
   "display_name": "Python 3 (ipykernel)",
   "language": "python",
   "name": "python3"
  },
  "language_info": {
   "codemirror_mode": {
    "name": "ipython",
    "version": 3
   },
   "file_extension": ".py",
   "mimetype": "text/x-python",
   "name": "python",
   "nbconvert_exporter": "python",
   "pygments_lexer": "ipython3",
   "version": "3.12.7"
  }
 },
 "nbformat": 4,
 "nbformat_minor": 5
}
