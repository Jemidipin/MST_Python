{
 "cells": [
  {
   "cell_type": "markdown",
   "id": "3855bf89-a0ba-4930-95db-a2826dd8c0f7",
   "metadata": {},
   "source": [
    "## 1) Write a program to find sum of all elements in a list of integers."
   ]
  },
  {
   "cell_type": "code",
   "execution_count": 90,
   "id": "e6b789de-4db7-4121-956d-876cd26ee90d",
   "metadata": {},
   "outputs": [
    {
     "data": {
      "text/plain": [
       "39"
      ]
     },
     "execution_count": 90,
     "metadata": {},
     "output_type": "execute_result"
    }
   ],
   "source": [
    "list1=[2,6,8,3,6,9,5]\n",
    "sum(list1)"
   ]
  },
  {
   "cell_type": "markdown",
   "id": "e0fb089d-1134-4a5a-ad86-1e7e91919aa6",
   "metadata": {},
   "source": [
    "## 2)  Input a sentence as a string.  \n",
    "### a) Print its length  \n",
    "### b) Print the first half of string "
   ]
  },
  {
   "cell_type": "code",
   "execution_count": 92,
   "id": "d619702a-5c0f-460a-9088-485a3a757889",
   "metadata": {},
   "outputs": [
    {
     "name": "stdin",
     "output_type": "stream",
     "text": [
      "Enter a string:  jemima\n"
     ]
    },
    {
     "name": "stdout",
     "output_type": "stream",
     "text": [
      "6\n",
      "jem\n"
     ]
    }
   ],
   "source": [
    "str1=input(\"Enter a string: \")\n",
    "print(len(str1))\n",
    "print(str1[:len(str1)//2])"
   ]
  },
  {
   "cell_type": "markdown",
   "id": "d430903c-3a91-4833-9807-6b78eae71b5d",
   "metadata": {},
   "source": [
    "## 3) Write a program to enter a tuple of integers as (78,45,32,19,82,77,40,39). Change the third value in the tuple to 100 "
   ]
  },
  {
   "cell_type": "code",
   "execution_count": 94,
   "id": "fab3f2cc-d1cd-44b2-9bd8-4288b00249b3",
   "metadata": {},
   "outputs": [
    {
     "name": "stdout",
     "output_type": "stream",
     "text": [
      "Original list:  [78, 45, 32, 19, 82, 77, 40, 39]\n",
      "Modified list:  [78, 45, 100, 19, 82, 77, 40, 39]\n",
      "final tuple:  (78, 45, 100, 19, 82, 77, 40, 39)\n"
     ]
    }
   ],
   "source": [
    "tup=(78,45,32,19,82,77,40,39)\n",
    "\n",
    "# convert tuple to list \n",
    "lis=list(tup)\n",
    "print(\"Original list: \",lis)\n",
    "# after adding third Value \n",
    "lis[2] = 100\n",
    "print(\"Modified list: \",lis)\n",
    "# again conert it to a tuple \n",
    "tup=tuple(lis) \n",
    "print(\"final tuple: \",tup)"
   ]
  },
  {
   "cell_type": "markdown",
   "id": "b5f9e48b-1ce6-4b42-b071-e4b4ac84fe70",
   "metadata": {},
   "source": [
    "## 4)  Consider a list listA=[19,32,10,55,31,32,94,29,10,65,77,40,40] "
   ]
  },
  {
   "cell_type": "code",
   "execution_count": 125,
   "id": "f746bdd8-eaaa-429a-8c49-31f0640cbaf1",
   "metadata": {},
   "outputs": [],
   "source": [
    "listA=[19,32,10,55,31,32,94,29,10,65,77,40,40]"
   ]
  },
  {
   "cell_type": "markdown",
   "id": "8e133af1-0c64-43c9-bf7d-64280c81699f",
   "metadata": {},
   "source": [
    "### (a) Delete the first occurrence of 32 "
   ]
  },
  {
   "cell_type": "code",
   "execution_count": 128,
   "id": "3cb0bd76-97d2-444d-b79f-2c89fb84e02f",
   "metadata": {},
   "outputs": [
    {
     "data": {
      "text/plain": [
       "[19, 10, 55, 31, 32, 94, 29, 10, 65, 77, 40, 40]"
      ]
     },
     "execution_count": 128,
     "metadata": {},
     "output_type": "execute_result"
    }
   ],
   "source": [
    "listA.remove(32)\n",
    "listA"
   ]
  },
  {
   "cell_type": "markdown",
   "id": "c321122e-e301-4677-a848-0d8aaa3b2f36",
   "metadata": {},
   "source": [
    "### (b) Delete all occurrences of 40 "
   ]
  },
  {
   "cell_type": "code",
   "execution_count": 131,
   "id": "478d22aa-b63f-44d6-ba5f-b7fd12ebcf61",
   "metadata": {},
   "outputs": [
    {
     "data": {
      "text/plain": [
       "[19, 10, 55, 31, 32, 94, 29, 10, 65, 77]"
      ]
     },
     "execution_count": 131,
     "metadata": {},
     "output_type": "execute_result"
    }
   ],
   "source": [
    "listA = [x for x in listA if x != 40]\n",
    "listA     "
   ]
  },
  {
   "cell_type": "markdown",
   "id": "cdb31364-6209-4bd7-b51c-0dd5949b3410",
   "metadata": {},
   "source": [
    "### (c) Delete the value at index=5 "
   ]
  },
  {
   "cell_type": "code",
   "execution_count": 134,
   "id": "037337ad-8af8-4351-9e54-5591c109272c",
   "metadata": {},
   "outputs": [
    {
     "data": {
      "text/plain": [
       "[19, 10, 55, 31, 32, 29, 10, 65, 77]"
      ]
     },
     "execution_count": 134,
     "metadata": {},
     "output_type": "execute_result"
    }
   ],
   "source": [
    "del listA[5]\n",
    "listA"
   ]
  },
  {
   "cell_type": "markdown",
   "id": "882abab4-7939-4fed-9b1a-8a919c4f8908",
   "metadata": {},
   "source": [
    "### (d) Modify the value at index=9 as 300 "
   ]
  },
  {
   "cell_type": "code",
   "execution_count": 137,
   "id": "68a52af7-87a5-40fb-91d7-33375aa5b750",
   "metadata": {},
   "outputs": [
    {
     "data": {
      "text/plain": [
       "[19, 10, 55, 31, 32, 29, 10, 65, 77, 300]"
      ]
     },
     "execution_count": 137,
     "metadata": {},
     "output_type": "execute_result"
    }
   ],
   "source": [
    "listA.insert(9,300)\n",
    "listA"
   ]
  },
  {
   "cell_type": "markdown",
   "id": "a7a0fa86-9be7-4ede-854c-1a90ab558eaa",
   "metadata": {},
   "source": [
    "### (e) Add 200 at index=2 "
   ]
  },
  {
   "cell_type": "code",
   "execution_count": 140,
   "id": "56bf5a04-5b6f-4602-913f-2adb861fd799",
   "metadata": {},
   "outputs": [
    {
     "data": {
      "text/plain": [
       "[19, 10, 200, 55, 31, 32, 29, 10, 65, 77, 300]"
      ]
     },
     "execution_count": 140,
     "metadata": {},
     "output_type": "execute_result"
    }
   ],
   "source": [
    "listA.insert(2,200)\n",
    "listA"
   ]
  },
  {
   "cell_type": "markdown",
   "id": "ad7dba58-7688-4a09-bd14-7f12c61fbc8d",
   "metadata": {},
   "source": [
    "### (f) Print the final list with its length, maximum value and sum of all elements"
   ]
  },
  {
   "cell_type": "code",
   "execution_count": 143,
   "id": "4850f3e5-6825-4caf-8ad7-b561e1afd65e",
   "metadata": {},
   "outputs": [
    {
     "name": "stdout",
     "output_type": "stream",
     "text": [
      "length of the list is:  11\n",
      "Maximum value of the list is:  300\n",
      "sum of the list is:  828\n"
     ]
    }
   ],
   "source": [
    "print(\"length of the list is: \",len(listA))\n",
    "print(\"Maximum value of the list is: \",max(listA))\n",
    "print(\"sum of the list is: \",sum(listA))"
   ]
  },
  {
   "cell_type": "markdown",
   "id": "c6a3d5fe-a96e-4c65-9c2b-3cbd016835ab",
   "metadata": {},
   "source": [
    "## 5) Consider a string ”The day has been long”. "
   ]
  },
  {
   "cell_type": "code",
   "execution_count": 119,
   "id": "37fafa62-3c8d-42cd-97ae-ac1228bbf90b",
   "metadata": {},
   "outputs": [],
   "source": [
    "string=\"The day has been long\""
   ]
  },
  {
   "cell_type": "markdown",
   "id": "b1f0f15a-dc11-4e43-87a9-7980626e2077",
   "metadata": {},
   "source": [
    "### (a) Delete the value at index =4"
   ]
  },
  {
   "cell_type": "code",
   "execution_count": 158,
   "id": "122353b9-6058-494e-a7b4-8988dfb626dc",
   "metadata": {},
   "outputs": [
    {
     "data": {
      "text/plain": [
       "'The ay has been long'"
      ]
     },
     "execution_count": 158,
     "metadata": {},
     "output_type": "execute_result"
    }
   ],
   "source": [
    "string[:4]+string[5:]"
   ]
  },
  {
   "cell_type": "markdown",
   "id": "2147390c-7e9e-46e3-9d0f-762bb5f7157d",
   "metadata": {},
   "source": [
    "### (b) Print the string 4 times in a single line with space between each repetition"
   ]
  },
  {
   "cell_type": "code",
   "execution_count": 169,
   "id": "7dc27c4a-95d8-4787-b9f9-f42bd7cbcbb0",
   "metadata": {},
   "outputs": [
    {
     "name": "stdout",
     "output_type": "stream",
     "text": [
      "The day has been long  The day has been long  The day has been long  The day has been long  \n"
     ]
    }
   ],
   "source": [
    "print((string+\"  \")*4)"
   ]
  },
  {
   "cell_type": "markdown",
   "id": "de189b93-a0b1-4f77-a6e3-5d7d574a988f",
   "metadata": {},
   "source": [
    "### (c) Print the string 3 times in a new line each time"
   ]
  },
  {
   "cell_type": "code",
   "execution_count": 196,
   "id": "65a5cfc7-8453-4733-b86f-121606734a3e",
   "metadata": {},
   "outputs": [
    {
     "name": "stdout",
     "output_type": "stream",
     "text": [
      "The day has been long \n",
      "The day has been long \n",
      "The day has been long \n",
      "\n"
     ]
    }
   ],
   "source": [
    "print((string+\" \\n\")*3)"
   ]
  },
  {
   "cell_type": "markdown",
   "id": "c13d5226-bd7b-43fe-8f4f-de61c703a758",
   "metadata": {},
   "source": [
    "### (d) Modify the string at index 7 as ’A’ "
   ]
  },
  {
   "cell_type": "code",
   "execution_count": 207,
   "id": "1268cae2-7108-4b5a-9234-b48d75ccdc16",
   "metadata": {},
   "outputs": [
    {
     "name": "stdout",
     "output_type": "stream",
     "text": [
      "The dayAhas been long\n"
     ]
    }
   ],
   "source": [
    "print(string[:7]+'A'+string[8:])"
   ]
  },
  {
   "cell_type": "markdown",
   "id": "9e418cec-e661-40a0-9178-981b26cfe652",
   "metadata": {},
   "source": [
    "### (e) Print the string from index 4 to 15"
   ]
  },
  {
   "cell_type": "code",
   "execution_count": 212,
   "id": "138d49db-3be3-4d38-95e5-2052a5a4c468",
   "metadata": {},
   "outputs": [
    {
     "name": "stdout",
     "output_type": "stream",
     "text": [
      "day has been\n"
     ]
    }
   ],
   "source": [
    "print(string[4:16])"
   ]
  },
  {
   "cell_type": "markdown",
   "id": "5470dc8e-f82f-4a51-81b9-8577782625d5",
   "metadata": {},
   "source": [
    "### (f) Print the final string with its length"
   ]
  },
  {
   "cell_type": "code",
   "execution_count": 231,
   "id": "7955fe13-9b66-46b7-87cb-e48888f9d81f",
   "metadata": {},
   "outputs": [
    {
     "name": "stdout",
     "output_type": "stream",
     "text": [
      "The day has been long \n",
      "length of the string is:  21\n"
     ]
    }
   ],
   "source": [
    "print(string,\"\\n\"\"length of the string is: \",len(string))"
   ]
  },
  {
   "cell_type": "code",
   "execution_count": null,
   "id": "97611cfb-d70f-41b5-9f7e-44a9bc31d685",
   "metadata": {},
   "outputs": [],
   "source": []
  }
 ],
 "metadata": {
  "kernelspec": {
   "display_name": "Python 3 (ipykernel)",
   "language": "python",
   "name": "python3"
  },
  "language_info": {
   "codemirror_mode": {
    "name": "ipython",
    "version": 3
   },
   "file_extension": ".py",
   "mimetype": "text/x-python",
   "name": "python",
   "nbconvert_exporter": "python",
   "pygments_lexer": "ipython3",
   "version": "3.12.7"
  }
 },
 "nbformat": 4,
 "nbformat_minor": 5
}
