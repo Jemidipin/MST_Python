{
 "cells": [
  {
   "cell_type": "markdown",
   "id": "2118d68b-57f2-4f20-85ef-5fa8c0106bed",
   "metadata": {},
   "source": [
    "## 1) Given the string \"Hello, World!\", extract and print the substring \"Hello\". "
   ]
  },
  {
   "cell_type": "code",
   "execution_count": 51,
   "id": "c214dc19-acf4-4c4e-8164-a88f9ed8b1ec",
   "metadata": {},
   "outputs": [
    {
     "name": "stdout",
     "output_type": "stream",
     "text": [
      "Hello\n"
     ]
    }
   ],
   "source": [
    "str1=\"Hello,World!\"\n",
    "substr1=str1[:5]\n",
    "print(substr1)"
   ]
  },
  {
   "cell_type": "markdown",
   "id": "a1e1eab3-3a4c-42fa-9b21-98a251a610df",
   "metadata": {},
   "source": [
    "## 2)  Given the string \"Python is fun\", extract and print the substring \"is\". "
   ]
  },
  {
   "cell_type": "code",
   "execution_count": 53,
   "id": "3492132e-f129-48aa-ad07-fac8a332fbcf",
   "metadata": {},
   "outputs": [
    {
     "data": {
      "text/plain": [
       "' is'"
      ]
     },
     "execution_count": 53,
     "metadata": {},
     "output_type": "execute_result"
    }
   ],
   "source": [
    "str2=\"Python is fun\" \n",
    "substr2=str2[6:9]\n",
    "substr2"
   ]
  },
  {
   "cell_type": "markdown",
   "id": "5c23a889-3333-4714-aeff-6044865ef1d5",
   "metadata": {},
   "source": [
    "## 3) Given the string \"Programming\", extract and print the substring \"gram\" using slicing indices. "
   ]
  },
  {
   "cell_type": "code",
   "execution_count": 55,
   "id": "bbea54d5-4ef7-405b-82e5-e60a60e68ec8",
   "metadata": {},
   "outputs": [
    {
     "data": {
      "text/plain": [
       "'gram'"
      ]
     },
     "execution_count": 55,
     "metadata": {},
     "output_type": "execute_result"
    }
   ],
   "source": [
    "str3=\"Programming\"\n",
    "substr3=str3[3:7]\n",
    "substr3"
   ]
  },
  {
   "cell_type": "markdown",
   "id": "2726247c-36f5-4869-8a8f-3e318005f7db",
   "metadata": {},
   "source": [
    "## 4)  Given the string \"abcdefgh\", use slicing to print only the characters at even indices."
   ]
  },
  {
   "cell_type": "code",
   "execution_count": 57,
   "id": "f77a7ab8-32d5-4fcc-aefe-2b3c09381752",
   "metadata": {},
   "outputs": [
    {
     "data": {
      "text/plain": [
       "'aceg'"
      ]
     },
     "execution_count": 57,
     "metadata": {},
     "output_type": "execute_result"
    }
   ],
   "source": [
    "str4=\"abcdefgh\"\n",
    "even_str=str4[::2]\n",
    "even_str"
   ]
  },
  {
   "cell_type": "markdown",
   "id": "282abf29-8d9b-4bc9-9888-0201f0468681",
   "metadata": {},
   "source": [
    "## 5) Given the string \"abcdefg\", use negative indices to extract and print the substring \"efg\". "
   ]
  },
  {
   "cell_type": "code",
   "execution_count": 59,
   "id": "8b344214-45c1-4c7a-9136-d021ee658fb8",
   "metadata": {},
   "outputs": [
    {
     "data": {
      "text/plain": [
       "'efg'"
      ]
     },
     "execution_count": 59,
     "metadata": {},
     "output_type": "execute_result"
    }
   ],
   "source": [
    "str5=\"abcdefg\"\n",
    "neg_ind=str5[-3:]\n",
    "neg_ind"
   ]
  },
  {
   "cell_type": "markdown",
   "id": "65066bd2-fc20-4d07-a931-eb8e1c91995e",
   "metadata": {},
   "source": [
    "## 6)  Given the string \"Data Science\", use negative indices to extract and print the last three characters. "
   ]
  },
  {
   "cell_type": "code",
   "execution_count": 61,
   "id": "76ca82f8-8e2b-4c69-90f6-f6ef353e93be",
   "metadata": {},
   "outputs": [
    {
     "data": {
      "text/plain": [
       "'nce'"
      ]
     },
     "execution_count": 61,
     "metadata": {},
     "output_type": "execute_result"
    }
   ],
   "source": [
    "str6=\"Data Science\"\n",
    "neg_str=str6[-3:]\n",
    "neg_str"
   ]
  },
  {
   "cell_type": "markdown",
   "id": "d00d5f4b-bbf0-4396-81e8-a47c8661a37c",
   "metadata": {},
   "source": [
    "## 7)  Given the string \"abcdefghij\", use slicing with a step to print every second character. "
   ]
  },
  {
   "cell_type": "code",
   "execution_count": 83,
   "id": "3d200c77-a55f-4ff9-a629-b553435a663f",
   "metadata": {},
   "outputs": [
    {
     "data": {
      "text/plain": [
       "'bdfhj'"
      ]
     },
     "execution_count": 83,
     "metadata": {},
     "output_type": "execute_result"
    }
   ],
   "source": [
    "str7=\"abcdefghij\"\n",
    "substr7=str7[1::2]\n",
    "substr7"
   ]
  },
  {
   "cell_type": "markdown",
   "id": "08e50d19-223d-4bc4-a29e-a609205ab8d0",
   "metadata": {},
   "source": [
    "## 8)  Given the string \"1234567890\", use slicing with a step to print the odd digits. "
   ]
  },
  {
   "cell_type": "code",
   "execution_count": 81,
   "id": "7f94e594-ff5d-4fde-bef7-f9444bd5a511",
   "metadata": {},
   "outputs": [
    {
     "data": {
      "text/plain": [
       "'13579'"
      ]
     },
     "execution_count": 81,
     "metadata": {},
     "output_type": "execute_result"
    }
   ],
   "source": [
    "str8=\"1234567890\"\n",
    "odd_dig=str8[::2]\n",
    "odd_dig"
   ]
  },
  {
   "cell_type": "markdown",
   "id": "c0172af3-33c8-48c4-875e-67934378900d",
   "metadata": {},
   "source": [
    "## 9)  Given the string \"Hello\", use slicing to print the string in reverse order. "
   ]
  },
  {
   "cell_type": "code",
   "execution_count": 96,
   "id": "750805d4-a7a4-48c2-ab00-65a662806419",
   "metadata": {},
   "outputs": [
    {
     "data": {
      "text/plain": [
       "'olleH'"
      ]
     },
     "execution_count": 96,
     "metadata": {},
     "output_type": "execute_result"
    }
   ],
   "source": [
    "str9=\"Hello\" \n",
    "rev_str=str9[::-1]\n",
    "rev_str"
   ]
  },
  {
   "cell_type": "markdown",
   "id": "43aab53f-3525-44fb-a963-ca42734fcf88",
   "metadata": {},
   "source": [
    "## 10) Given the string \"abcdefghijk\", extract and print the substring \"acegik\" using slicing."
   ]
  },
  {
   "cell_type": "code",
   "execution_count": 99,
   "id": "7e68e0ad-574b-4fd7-8145-f1c805bca080",
   "metadata": {},
   "outputs": [
    {
     "data": {
      "text/plain": [
       "'acegik'"
      ]
     },
     "execution_count": 99,
     "metadata": {},
     "output_type": "execute_result"
    }
   ],
   "source": [
    "str10=\"abcdefghijk\" \n",
    "substr10=str10[::2]\n",
    "substr10"
   ]
  },
  {
   "cell_type": "code",
   "execution_count": null,
   "id": "cb55142e-4ff9-4557-ac51-142611602156",
   "metadata": {},
   "outputs": [],
   "source": []
  }
 ],
 "metadata": {
  "kernelspec": {
   "display_name": "Python 3 (ipykernel)",
   "language": "python",
   "name": "python3"
  },
  "language_info": {
   "codemirror_mode": {
    "name": "ipython",
    "version": 3
   },
   "file_extension": ".py",
   "mimetype": "text/x-python",
   "name": "python",
   "nbconvert_exporter": "python",
   "pygments_lexer": "ipython3",
   "version": "3.12.7"
  }
 },
 "nbformat": 4,
 "nbformat_minor": 5
}
