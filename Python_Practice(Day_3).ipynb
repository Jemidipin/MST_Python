{
 "cells": [
  {
   "cell_type": "markdown",
   "id": "d13bed79-2956-4a30-ad50-34aa06226bb2",
   "metadata": {},
   "source": [
    "### 1) Given the participants' score sheet for your University Sports Day, you are required to find the runner-up score. You are given scores. Store them in a list and find the score of the runner-up. (Create an array of scores and print the runner up score) "
   ]
  },
  {
   "cell_type": "code",
   "execution_count": 18,
   "id": "ee2afde0-dea8-4300-a3d4-1315768e37b8",
   "metadata": {},
   "outputs": [
    {
     "data": {
      "text/plain": [
       "67"
      ]
     },
     "execution_count": 18,
     "metadata": {},
     "output_type": "execute_result"
    }
   ],
   "source": [
    "Scores=[67,45,23,89,43,11,26,59,33]\n",
    "# sort the array in descending order \n",
    "Scores.sort(reverse=True)\n",
    "# Runner up scores means Second place score\n",
    "Runner_up_score=Scores[1]\n",
    "Runner_up_score"
   ]
  },
  {
   "cell_type": "markdown",
   "id": "e118fb49-5f44-4773-bbd9-dcc01afba44f",
   "metadata": {},
   "source": [
    "### 2) A dictionary is given D={‘John’ [25,32,43],’Peter’:[87,55,96],’Ram’:[58,55,43],’Meena’:[63,79,85]} Get a name from user if the name in the dictionary change the values corresponding to that user to [88,77,99] and print the dictionary. Else print ‘Name not found’."
   ]
  },
  {
   "cell_type": "code",
   "execution_count": 35,
   "id": "3f13d268-641f-4b32-a8a5-603a32e88d91",
   "metadata": {},
   "outputs": [
    {
     "name": "stdin",
     "output_type": "stream",
     "text": [
      "Enter a Name:  Janu\n"
     ]
    },
    {
     "name": "stdout",
     "output_type": "stream",
     "text": [
      "Name not found.\n"
     ]
    }
   ],
   "source": [
    "D={'John':[25,32,43],\n",
    "   'Peter':[87,55,96],\n",
    "   'Ram':[58,55,43],\n",
    "   'Meena':[63,79,85] }\n",
    "name=input(\"Enter a Name: \")\n",
    "if name in D:\n",
    "    d[name]=[88,77,99]\n",
    "    print(\"added to Dictionary:\",D)\n",
    "else:\n",
    "    print(\"Name not found.\")"
   ]
  },
  {
   "cell_type": "code",
   "execution_count": 45,
   "id": "dc90f00b-ee52-4bbb-8f59-e8ceab243f07",
   "metadata": {},
   "outputs": [
    {
     "name": "stdin",
     "output_type": "stream",
     "text": [
      "Enter a Name:  Meena\n"
     ]
    },
    {
     "name": "stdout",
     "output_type": "stream",
     "text": [
      "added to Dictionary: {'John': [25, 32, 43], 'Peter': [87, 55, 96], 'Ram': [58, 55, 43], 'Meena': [88, 77, 99]}\n"
     ]
    }
   ],
   "source": [
    "D={'John':[25,32,43],\n",
    "   'Peter':[87,55,96],\n",
    "   'Ram':[58,55,43],\n",
    "   'Meena':[63,79,85] }\n",
    "name=input(\"Enter a Name: \")\n",
    "if name in D:\n",
    "    D[name]=[88,77,99]\n",
    "    print(\"added to Dictionary:\",D)\n",
    "else:\n",
    "    print(\"Name not found.\")"
   ]
  },
  {
   "cell_type": "markdown",
   "id": "818809c0-ce2f-4150-8f36-9ffb837ebedd",
   "metadata": {},
   "source": [
    "## 3)  Ticket Price Calculator: \n",
    "### I.Ask the user to enter their age. \n",
    "### II.Use control statements (if-elif-else) to calculate the ticket price based on the following conditions: \n",
    "#### a. If the age is below 5, the ticket price is free. \n",
    "#### b. If the age is between 5 and 12 (inclusive), the ticket price is Rs.10. \n",
    "#### c. If the age is above 12, the ticket price is Rs.50. \n",
    "#### d. If the age is above 60, the ticket price is free. \n",
    "#### e. If the gender is female, the ticket price is 50% of the applicable rates. \n",
    "### III.Display the ticket price to the user."
   ]
  },
  {
   "cell_type": "code",
   "execution_count": 77,
   "id": "24a69218-7bd3-4a20-8d9f-eea6941d94f9",
   "metadata": {},
   "outputs": [
    {
     "name": "stdin",
     "output_type": "stream",
     "text": [
      "Enter your age:  8\n",
      "Enter your gender (male/female):  male\n"
     ]
    },
    {
     "name": "stdout",
     "output_type": "stream",
     "text": [
      "Ticket Price is: Rs. 10.0\n"
     ]
    }
   ],
   "source": [
    "def ticket_price_calculation(age,gender): \n",
    "    if age<5 or age>=60: \n",
    "        ticket_price=0 \n",
    "    elif 5 <= age <= 12:\n",
    "        ticket_price=10 \n",
    "    else: \n",
    "        ticket_price=50 \n",
    "    discount = 0.5 if gender.lower() == 'female' else 1.0\n",
    "    ticket_price *= discount\n",
    "    return ticket_price\n",
    "age=int(input(\"Enter your age: \"))\n",
    "gender=input(\"Enter your gender (male/female): \")\n",
    "price=ticket_price_calculation(age,gender)\n",
    "\n",
    "print(\"Ticket Price is: Rs.\",price)"
   ]
  },
  {
   "cell_type": "code",
   "execution_count": null,
   "id": "6aa0a8b3-6891-4be3-ab1f-d879a4a034d1",
   "metadata": {},
   "outputs": [],
   "source": []
  }
 ],
 "metadata": {
  "kernelspec": {
   "display_name": "Python 3 (ipykernel)",
   "language": "python",
   "name": "python3"
  },
  "language_info": {
   "codemirror_mode": {
    "name": "ipython",
    "version": 3
   },
   "file_extension": ".py",
   "mimetype": "text/x-python",
   "name": "python",
   "nbconvert_exporter": "python",
   "pygments_lexer": "ipython3",
   "version": "3.12.7"
  }
 },
 "nbformat": 4,
 "nbformat_minor": 5
}
