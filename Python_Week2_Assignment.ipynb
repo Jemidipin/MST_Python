{
 "cells": [
  {
   "cell_type": "markdown",
   "id": "e3bbaf1f-25e2-47d2-a3c2-d255aff96d7a",
   "metadata": {},
   "source": [
    "### 1) 1. Write an interactive Python Program to implement following  “Guess Game” \n",
    "#### i.Think of a number between 1 and 10 and store it in a variable called \"secretNumber\". \n",
    "#### ii.Ask the user to enter a number between 1 and 10 and store it in a variable called \"guess\". \n",
    "#### iii.Use control statements (if-else) to check if the guess is correct, higher, or lower than the secret number. \n",
    "#### iv.Display appropriate messages to the user based on their guess: \n",
    "#### * If the guess is correct, display \"Congratulations! You guessed the number correctly!\"\n",
    "#### * If the guess is higher than the secret number, display \"Too high! Try again.\" \n",
    "#### * If the guess is lower than the secret number, display \"Too low! Try again.\"\n",
    "#### v.Allow the user to keep guessing until they guess the correct number."
   ]
  },
  {
   "cell_type": "code",
   "execution_count": 34,
   "id": "f4b83860-bdc1-44f4-a069-32081fbff789",
   "metadata": {},
   "outputs": [
    {
     "name": "stdin",
     "output_type": "stream",
     "text": [
      "Enter a number between 1 and 10:  8\n"
     ]
    },
    {
     "name": "stdout",
     "output_type": "stream",
     "text": [
      "Too high! Try again.\n"
     ]
    },
    {
     "name": "stdin",
     "output_type": "stream",
     "text": [
      "Enter a number between 1 and 10:  4\n"
     ]
    },
    {
     "name": "stdout",
     "output_type": "stream",
     "text": [
      "Too low! Try again.\n"
     ]
    },
    {
     "name": "stdin",
     "output_type": "stream",
     "text": [
      "Enter a number between 1 and 10:  5\n"
     ]
    },
    {
     "name": "stdout",
     "output_type": "stream",
     "text": [
      "Too low! Try again.\n"
     ]
    },
    {
     "name": "stdin",
     "output_type": "stream",
     "text": [
      "Enter a number between 1 and 10:  7\n"
     ]
    },
    {
     "name": "stdout",
     "output_type": "stream",
     "text": [
      "Too high! Try again.\n"
     ]
    },
    {
     "name": "stdin",
     "output_type": "stream",
     "text": [
      "Enter a number between 1 and 10:  6\n"
     ]
    },
    {
     "name": "stdout",
     "output_type": "stream",
     "text": [
      "Congratulations! You guessed the number correctly!\n"
     ]
    }
   ],
   "source": [
    "import random\n",
    "\n",
    "def guess_game():\n",
    "    secret_number = random.randint(1, 10) \n",
    "    while True:\n",
    "        guess = int(input(\"Enter a number between 1 and 10: \"))\n",
    "        \n",
    "        if guess == secret_number:\n",
    "            print(\"Congratulations! You guessed the number correctly!\")\n",
    "            break\n",
    "        elif guess > secret_number:\n",
    "            print(\"Too high! Try again.\")\n",
    "        else:\n",
    "            print(\"Too low! Try again.\")\n",
    "\n",
    "guess_game()\n"
   ]
  },
  {
   "cell_type": "markdown",
   "id": "324b3386-4982-47bf-999a-245e405466af",
   "metadata": {},
   "source": [
    "### 2) Write a program to find and print the Factorial of this number. The Factorial of a positive integer N refers to the product of all number in the range from 1 to N.\n",
    "#### * Roy wants to change his profile picture on Facebook. Now Facebook has some restriction over the dimension of picture that we can upload. \n",
    "#### Minimum dimension of the picture can be L x L, where L is the length of the side of square. Now Roy has N photos of various dimensions. \n",
    "#### Dimension of a photo is denoted as W x H where W - width of the photo and H - Height of the photo \n",
    "#### * When any photo is uploaded following events may occur:  \n",
    "#### [1] If any of the width or height is less than L, user is prompted to upload another one. Print \"UPLOAD ANOTHER\" in this case. \n",
    "#### [2] If width and height, both are large enough and  \n",
    "##### (a) if the photo is already square then it is accepted. Print \"ACCEPTED\" in this case.\n",
    "##### (b) else user is prompted to crop it. Print \"CROP IT\" in this case.  \n",
    "#### Given L, N, W and H as input, write a program to print appropriate text as output. "
   ]
  },
  {
   "cell_type": "code",
   "execution_count": 49,
   "id": "ea9bc4fb-dcd1-4fa2-a31d-03f33b4a2e8b",
   "metadata": {},
   "outputs": [
    {
     "name": "stdin",
     "output_type": "stream",
     "text": [
      "Enter a positive integer:  3\n"
     ]
    },
    {
     "name": "stdout",
     "output_type": "stream",
     "text": [
      "The factorial of 3 is 6\n"
     ]
    }
   ],
   "source": [
    "# Factorical \n",
    "def factorial(N): \n",
    "    result = 1 \n",
    "    for i in range(1, N + 1): \n",
    "        result *= i \n",
    "    return result \n",
    "N = int(input(\"Enter a positive integer: \")) \n",
    "print(f\"The factorial of {N} is {factorial(N)}\")"
   ]
  },
  {
   "cell_type": "code",
   "execution_count": 53,
   "id": "0ce2c5a9-5dea-40bc-89f5-bbf393ef627c",
   "metadata": {},
   "outputs": [
    {
     "name": "stdin",
     "output_type": "stream",
     "text": [
      "Enter the minimum dimension L:  8\n",
      "Enter the number of photos N:  2\n",
      "Enter width of photo 1:  5\n",
      "Enter height of photo 1:  6\n",
      "Enter width of photo 2:  3\n",
      "Enter height of photo 2:  7\n"
     ]
    },
    {
     "name": "stdout",
     "output_type": "stream",
     "text": [
      "UPLOAD ANOTHER\n",
      "UPLOAD ANOTHER\n"
     ]
    }
   ],
   "source": [
    "# profile picture\n",
    "def check_photo_dimensions(L, N, photos):\n",
    "    for i in range(N):\n",
    "        W, H = photos[i]\n",
    "        if W < L or H < L:\n",
    "            print(\"UPLOAD ANOTHER\")\n",
    "        elif W == H:\n",
    "            print(\"ACCEPTED\")\n",
    "        else:\n",
    "            print(\"CROP IT\")\n",
    "\n",
    "L = int(input(\"Enter the minimum dimension L: \"))\n",
    "N = int(input(\"Enter the number of photos N: \"))\n",
    "\n",
    "photos = []\n",
    "for i in range(N):\n",
    "    W = int(input(f\"Enter width of photo {i + 1}: \"))\n",
    "    H = int(input(f\"Enter height of photo {i + 1}: \"))\n",
    "    photos.append((W, H))\n",
    "\n",
    "check_photo_dimensions(L, N, photos)\n"
   ]
  },
  {
   "cell_type": "code",
   "execution_count": null,
   "id": "60b2ae2f-c566-475c-a900-36655bf67d6b",
   "metadata": {},
   "outputs": [],
   "source": []
  }
 ],
 "metadata": {
  "kernelspec": {
   "display_name": "Python 3 (ipykernel)",
   "language": "python",
   "name": "python3"
  },
  "language_info": {
   "codemirror_mode": {
    "name": "ipython",
    "version": 3
   },
   "file_extension": ".py",
   "mimetype": "text/x-python",
   "name": "python",
   "nbconvert_exporter": "python",
   "pygments_lexer": "ipython3",
   "version": "3.12.7"
  }
 },
 "nbformat": 4,
 "nbformat_minor": 5
}
